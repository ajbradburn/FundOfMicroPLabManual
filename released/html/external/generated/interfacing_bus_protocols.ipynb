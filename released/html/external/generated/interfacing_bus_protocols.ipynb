{
 "cells": [
  {
   "cell_type": "code",
   "execution_count": 3,
   "id": "267343f1-8232-426f-88af-7e8cde170d16",
   "metadata": {},
   "outputs": [],
   "source": [
    "import math\n",
    "import numpy\n",
    "import pandas\n",
    "\n",
    "# Latex in print output.\n",
    "from IPython.display import display, Math, Markdown\n",
    "\n",
    "import matplotlib.pyplot as plt\n",
    "%matplotlib inline\n",
    "\n",
    "import os\n",
    "\n",
    "import schemdraw as schem\n",
    "from schemdraw import flow as f\n",
    "import schemdraw.elements as e\n",
    "\n",
    "schem.use('svg')"
   ]
  },
  {
   "cell_type": "markdown",
   "id": "53ed0f98-98aa-4a39-8fc0-41db6420b396",
   "metadata": {},
   "source": [
    "### Resource Link: OLED Display\n",
    "https://www.amazon.com/dp/B0925V1DZK?psc=1&smid=A3CX4TQNUXMB0L&ref_=chk_typ_imgToDp\n",
    "\n",
    "https://www.amazon.com/dp/B09B9ZWSDZ?psc=1&smid=A39S0U3UP1U7UG&ref_=chk_typ_imgToDp"
   ]
  },
  {
   "cell_type": "markdown",
   "id": "94d3a2f5-d466-4894-97e2-8c450bbe1a89",
   "metadata": {},
   "source": [
    "### Resource Link: AHT20 Temperature and Humidity Sensor\n",
    "https://www.amazon.com/dp/B09B9ZWSDZ?psc=1&smid=A39S0U3UP1U7UG&ref_=chk_typ_imgToDp\n",
    "\n",
    "https://learn.adafruit.com/adafruit-aht20/python-circuitpython"
   ]
  },
  {
   "cell_type": "code",
   "execution_count": 4,
   "id": "4f4e7485-5a07-4d41-b246-b6ee9311eded",
   "metadata": {},
   "outputs": [],
   "source": [
    "os.system(\"inkscape -f interfacing_bus_protocols_bb.svg -A interfacing_bus_protocols_bb.pdf 2> /dev/null\");"
   ]
  },
  {
   "cell_type": "code",
   "execution_count": null,
   "id": "723bc627-541a-4c92-a0c9-1f7cc540c9c4",
   "metadata": {},
   "outputs": [],
   "source": []
  }
 ],
 "metadata": {
  "kernelspec": {
   "display_name": "Python 3 (ipykernel)",
   "language": "python",
   "name": "python3"
  },
  "language_info": {
   "codemirror_mode": {
    "name": "ipython",
    "version": 3
   },
   "file_extension": ".py",
   "mimetype": "text/x-python",
   "name": "python",
   "nbconvert_exporter": "python",
   "pygments_lexer": "ipython3",
   "version": "3.9.7"
  }
 },
 "nbformat": 4,
 "nbformat_minor": 5
}

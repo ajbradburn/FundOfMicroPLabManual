{
 "cells": [
  {
   "cell_type": "code",
   "execution_count": 37,
   "id": "5b757a30-4e68-4ead-891e-6c2dc7121fdd",
   "metadata": {},
   "outputs": [],
   "source": [
    "import math\n",
    "import numpy\n",
    "import pandas\n",
    "\n",
    "# Latex in print output.\n",
    "from IPython.display import display, Math, Markdown\n",
    "\n",
    "import matplotlib.pyplot as plt\n",
    "%matplotlib inline\n",
    "\n",
    "import os\n",
    "\n",
    "import schemdraw as schem\n",
    "from schemdraw import flow as f\n",
    "import schemdraw.elements as e\n",
    "\n",
    "schem.use('svg')"
   ]
  },
  {
   "cell_type": "markdown",
   "id": "72282f8f-2585-437a-a059-45ed95fdfc58",
   "metadata": {},
   "source": [
    "Discharge time of a capacitor is 5$\\tau$.\n",
    "\n",
    "\\begin{equation}\n",
    "\\tau=RC\n",
    "\\end{equation}"
   ]
  },
  {
   "cell_type": "markdown",
   "id": "83db9eb1-bc1d-4cb2-8a82-3f5c78d2c89c",
   "metadata": {},
   "source": [
    "There are a range of capacitor values, and resistor values that are practical to deal with. We will start with capacitor values, and calculate resistor values based upon them."
   ]
  },
  {
   "cell_type": "markdown",
   "id": "f12ed0da-d6db-4e36-a2d0-b379878cc5a9",
   "metadata": {},
   "source": [
    "|Capacitor Values||\n",
    "|---|---|\n",
    "|1pF|10,000µF|"
   ]
  },
  {
   "cell_type": "markdown",
   "id": "eb9fde94-72b0-41c6-9572-b3b0427cb539",
   "metadata": {},
   "source": [
    "Target dischange time is 0.5s"
   ]
  },
  {
   "cell_type": "code",
   "execution_count": 29,
   "id": "8d165410-07ad-46e2-a0b3-ab560938ac87",
   "metadata": {},
   "outputs": [
    {
     "name": "stdout",
     "output_type": "stream",
     "text": [
      "C Raw: 1.0000000000000001e-07F\n",
      "Capacitance: 100.00000000000001pF\n",
      "Resistance: 1.0MΩ\n"
     ]
    }
   ],
   "source": [
    "tau = (0.5 / 5)\n",
    "Cap = (tau / 1000000)\n",
    "print(\"C Raw: {}F\".format(Cap))\n",
    "Cap = Cap * 1000000000\n",
    "Res = (tau / (Cap / 1000000000) / 1000000)\n",
    "\n",
    "print(\"Capacitance: {}pF\".format(Cap))\n",
    "print(\"Resistance: {}MΩ\".format(Res))"
   ]
  },
  {
   "cell_type": "markdown",
   "id": "5879f398-7912-4c86-8ffd-79715d3b3791",
   "metadata": {},
   "source": [
    "***"
   ]
  },
  {
   "cell_type": "markdown",
   "id": "117da114-8298-4789-8863-77f3fe6ef180",
   "metadata": {},
   "source": [
    "Current Max for the Raspbeery Pi GPIO is 16mA, and the voltage is 3.3V"
   ]
  },
  {
   "cell_type": "code",
   "execution_count": 32,
   "id": "da855ee8-fa05-4626-a498-8c78ae9bf479",
   "metadata": {},
   "outputs": [
    {
     "name": "stdout",
     "output_type": "stream",
     "text": [
      "Resistance for 8mA @ 3.3V: 206.24999999999997\n"
     ]
    }
   ],
   "source": [
    "Res = 3.3 / 0.016\n",
    "print(\"Resistance for 8mA @ 3.3V: {}\".format(Res))"
   ]
  },
  {
   "cell_type": "markdown",
   "id": "ea7c5603-2047-4a75-8334-c9f46ff6d15e",
   "metadata": {},
   "source": [
    "\\begin{equation}\n",
    "R=\\frac{V}{I}=\\frac{3.3V}{0.008A}=206.3Ω\n",
    "\\end{equation}"
   ]
  },
  {
   "cell_type": "markdown",
   "id": "ec9df72e-e0d1-41df-8d0e-2c03a4df73d7",
   "metadata": {},
   "source": [
    "\\begin{equation}\n",
    "I = \\frac{V_{Pi}-V_{LED}}{R}=\\frac{3.3V-1.7V}{200Ω}=0.008A=8mA\n",
    "\\end{equation}"
   ]
  },
  {
   "cell_type": "markdown",
   "id": "e13c2592-5623-47ce-9d73-215d899a6643",
   "metadata": {},
   "source": [
    "***"
   ]
  },
  {
   "cell_type": "markdown",
   "id": "d4e48b8a-f351-4eaa-869b-d1fbbef9d034",
   "metadata": {},
   "source": [
    "### Resource Link: A kit that has all components plus more.\n",
    "\n",
    "https://www.amazon.com/OSOYOO-Electronic-Components-Package-Total/dp/B01MZ87USD/ref=sr_1_1_sspa?crid=C04U73GCKIY4&keywords=capacitor+kit&qid=1645608193&sprefix=capacitor+kit%2Caps%2C88&sr=8-1-spons&psc=1&spLa=ZW5jcnlwdGVkUXVhbGlmaWVyPUEyMDVMUEpYWDYyWVYwJmVuY3J5cHRlZElkPUEwNDc2OTU3MUY3WkRLMVNLSTFINyZlbmNyeXB0ZWRBZElkPUEwMDc0MTU4MTNTWVZZRlVYVk1WJndpZGdldE5hbWU9c3BfYXRmJmFjdGlvbj1jbGlja1JlZGlyZWN0JmRvTm90TG9nQ2xpY2s9dHJ1ZQ=="
   ]
  },
  {
   "cell_type": "code",
   "execution_count": 87,
   "id": "d8a26f6c-ad48-4107-a586-7d857c664892",
   "metadata": {},
   "outputs": [
    {
     "data": {
      "image/svg+xml": [
       "<svg xmlns=\"http://www.w3.org/2000/svg\" xml:lang=\"en\" height=\"169.96pt\" width=\"345.1558pt\" viewBox=\"-30.819800000000004 -42.86 345.1558 169.96\"><circle cx=\"133.488\" cy=\"-0.0\" r=\"3.888\" style=\"stroke:black;fill:none;stroke-width:2;\" /><circle cx=\"158.112\" cy=\"-0.0\" r=\"3.888\" style=\"stroke:black;fill:none;stroke-width:2;\" /><path d=\"M 0.0,-0.0 L 48.599999999999994,-0.0 L 97.19999999999999,-0.0\" style=\"stroke:black;fill:none;stroke-width:2;stroke-linecap:round;stroke-linejoin:round;\" /><path d=\"M 97.19999999999999,-0.0 L 97.19999999999997,48.599999999999994 L 97.19999999999997,97.19999999999999\" style=\"stroke:black;fill:none;stroke-width:2;stroke-linecap:round;stroke-linejoin:round;\" /><path d=\"M 97.19999999999997,97.19999999999999 L 142.88399999999996,97.19999999999999 M 142.88399999999996,89.1 L 142.88399999999996,105.3 M 148.71599999999998,89.1 L 148.71599999999998,105.3 M 148.71599999999998,97.19999999999999 L 194.39999999999998,97.19999999999999\" style=\"stroke:black;fill:none;stroke-width:2;stroke-linecap:round;stroke-linejoin:round;\" /><path d=\"M 194.39999999999998,97.19999999999999 L 194.39999999999998,48.599999999999994 L 194.39999999999998,-0.0\" style=\"stroke:black;fill:none;stroke-width:2;stroke-linecap:round;stroke-linejoin:round;\" /><path d=\"M 97.19999999999999,-0.0 L 129.6,-0.0 M 137.376,-3.24 L 155.51999999999998,-14.58 M 162.0,-0.0 L 194.39999999999998,-0.0\" style=\"stroke:black;fill:none;stroke-width:2;stroke-linecap:round;stroke-linejoin:round;\" /><path d=\"M 194.39999999999998,-0.0 L 226.79999999999998,-0.0 L 229.49999999999997,-8.1 L 234.89999999999998,8.1 L 240.29999999999998,-8.1 L 245.7,8.1 L 251.1,-8.1 L 256.49999999999994,8.1 L 259.2,-0.0 L 291.59999999999997,-0.0\" style=\"stroke:black;fill:none;stroke-width:2;stroke-linecap:round;stroke-linejoin:round;\" /><path d=\"M 291.59999999999997,-0.0 L 304.56,7.935711258474849e-16 L 304.56,8.1 L 304.56,-8.099999999999998 M 308.448,5.67 L 308.448,-5.669999999999998 M 312.336,1.6200000000000014 L 312.336,-1.6199999999999988\" style=\"stroke:black;fill:none;stroke-width:2;stroke-linecap:round;stroke-linejoin:round;\" /><text x=\"145.79999999999998\" y=\"72.55999999999999\" fill=\"black\" font-size=\"14\" font-family=\"sans-serif\" text-anchor=\"middle\" transform=\"rotate(0 145.79999999999998 83.75999999999999)\"><tspan x=\"145.79999999999998\" dy=\"11.200000000000001\">C1</tspan></text><text x=\"145.79999999999998\" y=\"106.44\" fill=\"black\" font-size=\"14\" font-family=\"sans-serif\" text-anchor=\"middle\" transform=\"rotate(0 145.79999999999998 106.44)\"><tspan x=\"145.79999999999998\" dy=\"11.200000000000001\">0.1nF</tspan></text><text x=\"145.79999999999998\" y=\"-31.119999999999997\" fill=\"black\" font-size=\"14\" font-family=\"sans-serif\" text-anchor=\"middle\" transform=\"rotate(0 145.79999999999998 -19.919999999999998)\"><tspan x=\"145.79999999999998\" dy=\"11.200000000000001\">SW1</tspan></text><text x=\"145.79999999999998\" y=\"5.0280000000000005\" fill=\"black\" font-size=\"14\" font-family=\"sans-serif\" text-anchor=\"middle\" transform=\"rotate(0 145.79999999999998 5.0280000000000005)\"><tspan x=\"145.79999999999998\" dy=\"11.200000000000001\">Momentary</tspan></text><text x=\"243.0\" y=\"-24.64\" fill=\"black\" font-size=\"14\" font-family=\"sans-serif\" text-anchor=\"middle\" transform=\"rotate(0 243.0 -13.44)\"><tspan x=\"243.0\" dy=\"11.200000000000001\">R1</tspan></text><text x=\"243.0\" y=\"9.239999999999997\" fill=\"black\" font-size=\"14\" font-family=\"sans-serif\" text-anchor=\"middle\" transform=\"rotate(0 243.0 9.239999999999998)\"><tspan x=\"243.0\" dy=\"11.200000000000001\">10KΩ</tspan></text><circle cx=\"0.0\" cy=\"-0.0\" r=\"2.4299999999999997\" style=\"stroke:black;fill:white;stroke-width:2;\" /><text x=\"0.0\" y=\"3.5699999999999985\" fill=\"black\" font-size=\"14\" font-family=\"sans-serif\" text-anchor=\"middle\" transform=\"rotate(0 0.0 3.5699999999999994)\"><tspan x=\"0.0\" dy=\"11.200000000000001\">GPIO N</tspan></text><circle cx=\"97.19999999999999\" cy=\"-0.0\" r=\"2.4299999999999997\" style=\"stroke:black;fill:black;stroke-width:2;\" /><circle cx=\"194.39999999999998\" cy=\"-0.0\" r=\"2.4299999999999997\" style=\"stroke:black;fill:black;stroke-width:2;\" /></svg>"
      ],
      "text/plain": [
       "<svg xmlns=\"http://www.w3.org/2000/svg\" xml:lang=\"en\" height=\"169.96pt\" width=\"345.1558pt\" viewBox=\"-30.819800000000004 -42.86 345.1558 169.96\"><circle cx=\"133.488\" cy=\"-0.0\" r=\"3.888\" style=\"stroke:black;fill:none;stroke-width:2;\" /><circle cx=\"158.112\" cy=\"-0.0\" r=\"3.888\" style=\"stroke:black;fill:none;stroke-width:2;\" /><path d=\"M 0.0,-0.0 L 48.599999999999994,-0.0 L 97.19999999999999,-0.0\" style=\"stroke:black;fill:none;stroke-width:2;stroke-linecap:round;stroke-linejoin:round;\" /><path d=\"M 97.19999999999999,-0.0 L 97.19999999999997,48.599999999999994 L 97.19999999999997,97.19999999999999\" style=\"stroke:black;fill:none;stroke-width:2;stroke-linecap:round;stroke-linejoin:round;\" /><path d=\"M 97.19999999999997,97.19999999999999 L 142.88399999999996,97.19999999999999 M 142.88399999999996,89.1 L 142.88399999999996,105.3 M 148.71599999999998,89.1 L 148.71599999999998,105.3 M 148.71599999999998,97.19999999999999 L 194.39999999999998,97.19999999999999\" style=\"stroke:black;fill:none;stroke-width:2;stroke-linecap:round;stroke-linejoin:round;\" /><path d=\"M 194.39999999999998,97.19999999999999 L 194.39999999999998,48.599999999999994 L 194.39999999999998,-0.0\" style=\"stroke:black;fill:none;stroke-width:2;stroke-linecap:round;stroke-linejoin:round;\" /><path d=\"M 97.19999999999999,-0.0 L 129.6,-0.0 M 137.376,-3.24 L 155.51999999999998,-14.58 M 162.0,-0.0 L 194.39999999999998,-0.0\" style=\"stroke:black;fill:none;stroke-width:2;stroke-linecap:round;stroke-linejoin:round;\" /><path d=\"M 194.39999999999998,-0.0 L 226.79999999999998,-0.0 L 229.49999999999997,-8.1 L 234.89999999999998,8.1 L 240.29999999999998,-8.1 L 245.7,8.1 L 251.1,-8.1 L 256.49999999999994,8.1 L 259.2,-0.0 L 291.59999999999997,-0.0\" style=\"stroke:black;fill:none;stroke-width:2;stroke-linecap:round;stroke-linejoin:round;\" /><path d=\"M 291.59999999999997,-0.0 L 304.56,7.935711258474849e-16 L 304.56,8.1 L 304.56,-8.099999999999998 M 308.448,5.67 L 308.448,-5.669999999999998 M 312.336,1.6200000000000014 L 312.336,-1.6199999999999988\" style=\"stroke:black;fill:none;stroke-width:2;stroke-linecap:round;stroke-linejoin:round;\" /><text x=\"145.79999999999998\" y=\"72.55999999999999\" fill=\"black\" font-size=\"14\" font-family=\"sans-serif\" text-anchor=\"middle\" transform=\"rotate(0 145.79999999999998 83.75999999999999)\"><tspan x=\"145.79999999999998\" dy=\"11.200000000000001\">C1</tspan></text><text x=\"145.79999999999998\" y=\"106.44\" fill=\"black\" font-size=\"14\" font-family=\"sans-serif\" text-anchor=\"middle\" transform=\"rotate(0 145.79999999999998 106.44)\"><tspan x=\"145.79999999999998\" dy=\"11.200000000000001\">0.1nF</tspan></text><text x=\"145.79999999999998\" y=\"-31.119999999999997\" fill=\"black\" font-size=\"14\" font-family=\"sans-serif\" text-anchor=\"middle\" transform=\"rotate(0 145.79999999999998 -19.919999999999998)\"><tspan x=\"145.79999999999998\" dy=\"11.200000000000001\">SW1</tspan></text><text x=\"145.79999999999998\" y=\"5.0280000000000005\" fill=\"black\" font-size=\"14\" font-family=\"sans-serif\" text-anchor=\"middle\" transform=\"rotate(0 145.79999999999998 5.0280000000000005)\"><tspan x=\"145.79999999999998\" dy=\"11.200000000000001\">Momentary</tspan></text><text x=\"243.0\" y=\"-24.64\" fill=\"black\" font-size=\"14\" font-family=\"sans-serif\" text-anchor=\"middle\" transform=\"rotate(0 243.0 -13.44)\"><tspan x=\"243.0\" dy=\"11.200000000000001\">R1</tspan></text><text x=\"243.0\" y=\"9.239999999999997\" fill=\"black\" font-size=\"14\" font-family=\"sans-serif\" text-anchor=\"middle\" transform=\"rotate(0 243.0 9.239999999999998)\"><tspan x=\"243.0\" dy=\"11.200000000000001\">10KΩ</tspan></text><circle cx=\"0.0\" cy=\"-0.0\" r=\"2.4299999999999997\" style=\"stroke:black;fill:white;stroke-width:2;\" /><text x=\"0.0\" y=\"3.5699999999999985\" fill=\"black\" font-size=\"14\" font-family=\"sans-serif\" text-anchor=\"middle\" transform=\"rotate(0 0.0 3.5699999999999994)\"><tspan x=\"0.0\" dy=\"11.200000000000001\">GPIO N</tspan></text><circle cx=\"97.19999999999999\" cy=\"-0.0\" r=\"2.4299999999999997\" style=\"stroke:black;fill:black;stroke-width:2;\" /><circle cx=\"194.39999999999998\" cy=\"-0.0\" r=\"2.4299999999999997\" style=\"stroke:black;fill:black;stroke-width:2;\" /></svg>"
      ]
     },
     "execution_count": 87,
     "metadata": {},
     "output_type": "execute_result"
    }
   ],
   "source": [
    "img = schem.Drawing()\n",
    "\n",
    "img += e.Dot(open='True').label('GPIO N', loc='bottom')\n",
    "img += e.Line()\n",
    "img.push()\n",
    "img += e.Dot()\n",
    "img += e.Line().down()\n",
    "img += (c1 := e.Capacitor().label('C1').label('0.1nF', loc='bottom').right())\n",
    "img += e.Line().up()\n",
    "img += e.Dot()\n",
    "img.pop()\n",
    "img += (sw1 := e.Switch().label('SW1').label('Momentary', loc='bottom'))\n",
    "img += (r1 := e.Resistor().label('R1').label('10KΩ', loc='bottom'))\n",
    "img += e.Ground().up()\n",
    "\n",
    "img.save('interfacing_basics_img01.svg')\n",
    "os.system(\"inkscape -f interfacing_basics_img01.svg -A interfacing_basics_img01.pdf 2> /dev/null\");\n",
    "img.draw()"
   ]
  },
  {
   "cell_type": "code",
   "execution_count": 91,
   "id": "2c8d152a-355c-4836-b6f3-3d1e422c349f",
   "metadata": {},
   "outputs": [
    {
     "data": {
      "image/svg+xml": [
       "<svg xmlns=\"http://www.w3.org/2000/svg\" xml:lang=\"en\" height=\"66.28pt\" width=\"247.95579999999998pt\" viewBox=\"-30.819800000000004 -36.379999999999995 247.95579999999998 66.28\"><polygon points=\"42.93,-8.1 54.26999999999999,-0.0 42.93,8.1 \" style=\"stroke:black;fill:none;stroke-width:2;stroke-linecap:round;stroke-linejoin:round;\" /><path d=\"M 0.0,-0.0 L 42.93,-0.0 M 54.26999999999999,-8.1 L 54.26999999999999,8.1 M 54.26999999999999,-0.0 L 97.19999999999999,-0.0\" style=\"stroke:black;fill:none;stroke-width:2;stroke-linecap:round;stroke-linejoin:round;\" /><path d=\"M 51.029999999999994,-12.149999999999999 L 55.91501967944772,-20.698784439033503\" style=\"stroke:black;fill:none;stroke-width:2;stroke-linecap:round;stroke-linejoin:round;\" /><path d=\"M 58.13772212328633 -24.58851371575108 L 58.16550590383431 -19.41279231081259 L 53.66453345506111 -21.984776567254418 Z\" style=\"stroke:black;fill:black;stroke-linecap:butt;stroke-linejoin:miter;\" /><path d=\"M 43.739999999999995,-12.149999999999999 L 48.62501967944772,-20.698784439033503\" style=\"stroke:black;fill:none;stroke-width:2;stroke-linecap:round;stroke-linejoin:round;\" /><path d=\"M 50.84772212328634 -24.58851371575108 L 50.875505903834316 -19.41279231081259 L 46.37453345506112 -21.98477656725442 Z\" style=\"stroke:black;fill:black;stroke-linecap:butt;stroke-linejoin:miter;\" /><path d=\"M 97.19999999999999,-0.0 L 129.6,-0.0 L 132.29999999999998,-8.1 L 137.7,8.1 L 143.09999999999997,-8.1 L 148.49999999999997,8.1 L 153.9,-8.1 L 159.29999999999998,8.1 L 162.0,-0.0 L 194.39999999999998,-0.0\" style=\"stroke:black;fill:none;stroke-width:2;stroke-linecap:round;stroke-linejoin:round;\" /><path d=\"M 194.39999999999998,-0.0 L 207.36,7.935711258474849e-16 L 207.36,8.1 L 207.36,-8.099999999999998 M 211.248,5.67 L 211.248,-5.669999999999998 M 215.13599999999997,1.6200000000000014 L 215.13599999999997,-1.6199999999999988\" style=\"stroke:black;fill:none;stroke-width:2;stroke-linecap:round;stroke-linejoin:round;\" /><text x=\"48.599999999999994\" y=\"9.239999999999997\" fill=\"black\" font-size=\"14\" font-family=\"sans-serif\" text-anchor=\"middle\" transform=\"rotate(0 48.599999999999994 9.239999999999998)\"><tspan x=\"48.599999999999994\" dy=\"11.200000000000001\">D1</tspan></text><text x=\"145.79999999999998\" y=\"-24.64\" fill=\"black\" font-size=\"14\" font-family=\"sans-serif\" text-anchor=\"middle\" transform=\"rotate(0 145.79999999999998 -13.44)\"><tspan x=\"145.79999999999998\" dy=\"11.200000000000001\">R1</tspan></text><text x=\"145.79999999999998\" y=\"9.239999999999997\" fill=\"black\" font-size=\"14\" font-family=\"sans-serif\" text-anchor=\"middle\" transform=\"rotate(0 145.79999999999998 9.239999999999998)\"><tspan x=\"145.79999999999998\" dy=\"11.200000000000001\">470Ω</tspan></text><circle cx=\"0.0\" cy=\"-0.0\" r=\"2.4299999999999997\" style=\"stroke:black;fill:white;stroke-width:2;\" /><text x=\"0.0\" y=\"-18.97\" fill=\"black\" font-size=\"14\" font-family=\"sans-serif\" text-anchor=\"middle\" transform=\"rotate(0 0.0 -7.77)\"><tspan x=\"0.0\" dy=\"11.200000000000001\">GPIO N</tspan></text></svg>"
      ],
      "text/plain": [
       "<svg xmlns=\"http://www.w3.org/2000/svg\" xml:lang=\"en\" height=\"66.28pt\" width=\"247.95579999999998pt\" viewBox=\"-30.819800000000004 -36.379999999999995 247.95579999999998 66.28\"><polygon points=\"42.93,-8.1 54.26999999999999,-0.0 42.93,8.1 \" style=\"stroke:black;fill:none;stroke-width:2;stroke-linecap:round;stroke-linejoin:round;\" /><path d=\"M 0.0,-0.0 L 42.93,-0.0 M 54.26999999999999,-8.1 L 54.26999999999999,8.1 M 54.26999999999999,-0.0 L 97.19999999999999,-0.0\" style=\"stroke:black;fill:none;stroke-width:2;stroke-linecap:round;stroke-linejoin:round;\" /><path d=\"M 51.029999999999994,-12.149999999999999 L 55.91501967944772,-20.698784439033503\" style=\"stroke:black;fill:none;stroke-width:2;stroke-linecap:round;stroke-linejoin:round;\" /><path d=\"M 58.13772212328633 -24.58851371575108 L 58.16550590383431 -19.41279231081259 L 53.66453345506111 -21.984776567254418 Z\" style=\"stroke:black;fill:black;stroke-linecap:butt;stroke-linejoin:miter;\" /><path d=\"M 43.739999999999995,-12.149999999999999 L 48.62501967944772,-20.698784439033503\" style=\"stroke:black;fill:none;stroke-width:2;stroke-linecap:round;stroke-linejoin:round;\" /><path d=\"M 50.84772212328634 -24.58851371575108 L 50.875505903834316 -19.41279231081259 L 46.37453345506112 -21.98477656725442 Z\" style=\"stroke:black;fill:black;stroke-linecap:butt;stroke-linejoin:miter;\" /><path d=\"M 97.19999999999999,-0.0 L 129.6,-0.0 L 132.29999999999998,-8.1 L 137.7,8.1 L 143.09999999999997,-8.1 L 148.49999999999997,8.1 L 153.9,-8.1 L 159.29999999999998,8.1 L 162.0,-0.0 L 194.39999999999998,-0.0\" style=\"stroke:black;fill:none;stroke-width:2;stroke-linecap:round;stroke-linejoin:round;\" /><path d=\"M 194.39999999999998,-0.0 L 207.36,7.935711258474849e-16 L 207.36,8.1 L 207.36,-8.099999999999998 M 211.248,5.67 L 211.248,-5.669999999999998 M 215.13599999999997,1.6200000000000014 L 215.13599999999997,-1.6199999999999988\" style=\"stroke:black;fill:none;stroke-width:2;stroke-linecap:round;stroke-linejoin:round;\" /><text x=\"48.599999999999994\" y=\"9.239999999999997\" fill=\"black\" font-size=\"14\" font-family=\"sans-serif\" text-anchor=\"middle\" transform=\"rotate(0 48.599999999999994 9.239999999999998)\"><tspan x=\"48.599999999999994\" dy=\"11.200000000000001\">D1</tspan></text><text x=\"145.79999999999998\" y=\"-24.64\" fill=\"black\" font-size=\"14\" font-family=\"sans-serif\" text-anchor=\"middle\" transform=\"rotate(0 145.79999999999998 -13.44)\"><tspan x=\"145.79999999999998\" dy=\"11.200000000000001\">R1</tspan></text><text x=\"145.79999999999998\" y=\"9.239999999999997\" fill=\"black\" font-size=\"14\" font-family=\"sans-serif\" text-anchor=\"middle\" transform=\"rotate(0 145.79999999999998 9.239999999999998)\"><tspan x=\"145.79999999999998\" dy=\"11.200000000000001\">470Ω</tspan></text><circle cx=\"0.0\" cy=\"-0.0\" r=\"2.4299999999999997\" style=\"stroke:black;fill:white;stroke-width:2;\" /><text x=\"0.0\" y=\"-18.97\" fill=\"black\" font-size=\"14\" font-family=\"sans-serif\" text-anchor=\"middle\" transform=\"rotate(0 0.0 -7.77)\"><tspan x=\"0.0\" dy=\"11.200000000000001\">GPIO N</tspan></text></svg>"
      ]
     },
     "execution_count": 91,
     "metadata": {},
     "output_type": "execute_result"
    }
   ],
   "source": [
    "img = schem.Drawing()\n",
    "\n",
    "img += e.Dot(open='True').label('GPIO N')\n",
    "img += e.LED().label('D1')\n",
    "img += e.Resistor().label('R1').label('470Ω', loc='bottom')\n",
    "img += e.Ground().up()\n",
    "\n",
    "img.save('interfacing_basics_img02.svg')\n",
    "os.system(\"inkscape -f interfacing_basics_img02.svg -A interfacing_basics_img02.pdf 2> /dev/null\");\n",
    "img.draw()"
   ]
  },
  {
   "cell_type": "code",
   "execution_count": 93,
   "id": "6cef9575-97b9-4e5d-bd7a-52ec58ed289a",
   "metadata": {},
   "outputs": [],
   "source": [
    "os.system(\"inkscape -f interfacing_basics_bb.svg -A interfacing_basics_bb.pdf 2> /dev/null\");"
   ]
  },
  {
   "cell_type": "code",
   "execution_count": 94,
   "id": "e97ddd9e-3832-4579-9aa8-d9ce270208b9",
   "metadata": {},
   "outputs": [],
   "source": [
    "os.system(\"inkscape -f ../images/gpiopinsv3withpi.svg -A ../images/gpiopinsv3withpi.pdf 2> /dev/null\");"
   ]
  }
 ],
 "metadata": {
  "kernelspec": {
   "display_name": "Python 3 (ipykernel)",
   "language": "python",
   "name": "python3"
  },
  "language_info": {
   "codemirror_mode": {
    "name": "ipython",
    "version": 3
   },
   "file_extension": ".py",
   "mimetype": "text/x-python",
   "name": "python",
   "nbconvert_exporter": "python",
   "pygments_lexer": "ipython3",
   "version": "3.9.7"
  }
 },
 "nbformat": 4,
 "nbformat_minor": 5
}

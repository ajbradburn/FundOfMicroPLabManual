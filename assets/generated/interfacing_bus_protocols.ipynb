{
 "cells": [
  {
   "cell_type": "markdown",
   "id": "f1c40484-f646-4013-9706-e1dfa2dfed1d",
   "metadata": {},
   "source": [
    "### Resource Link: OLED Display\n",
    "https://www.amazon.com/dp/B0925V1DZK?psc=1&smid=A3CX4TQNUXMB0L&ref_=chk_typ_imgToDp\n",
    "\n",
    "https://www.amazon.com/dp/B09B9ZWSDZ?psc=1&smid=A39S0U3UP1U7UG&ref_=chk_typ_imgToDp"
   ]
  },
  {
   "cell_type": "markdown",
   "id": "94d3a2f5-d466-4894-97e2-8c450bbe1a89",
   "metadata": {},
   "source": [
    "### Resource Link: AHT20 Temperature and Humidity Sensor\n",
    "https://www.amazon.com/dp/B09B9ZWSDZ?psc=1&smid=A39S0U3UP1U7UG&ref_=chk_typ_imgToDp\n",
    "\n",
    "https://learn.adafruit.com/adafruit-aht20/python-circuitpython"
   ]
  },
  {
   "cell_type": "markdown",
   "id": "5829ddd9-d727-454a-ac1f-a111af94be55",
   "metadata": {},
   "source": []
  },
  {
   "cell_type": "code",
   "execution_count": null,
   "id": "8c3003bf-cd7a-465c-83b4-5a0941f89898",
   "metadata": {},
   "outputs": [],
   "source": []
  }
 ],
 "metadata": {
  "kernelspec": {
   "display_name": "Python 3 (ipykernel)",
   "language": "python",
   "name": "python3"
  },
  "language_info": {
   "codemirror_mode": {
    "name": "ipython",
    "version": 3
   },
   "file_extension": ".py",
   "mimetype": "text/x-python",
   "name": "python",
   "nbconvert_exporter": "python",
   "pygments_lexer": "ipython3",
   "version": "3.9.7"
  }
 },
 "nbformat": 4,
 "nbformat_minor": 5
}
